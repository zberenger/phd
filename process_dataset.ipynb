{
 "cells": [
  {
   "cell_type": "code",
   "execution_count": 1,
   "metadata": {},
   "outputs": [
    {
     "name": "stdout",
     "output_type": "stream",
     "text": [
      "cpu\n"
     ]
    },
    {
     "data": {
      "text/plain": [
       "<torch._C.Generator at 0x7fa9664d8bd0>"
      ]
     },
     "execution_count": 1,
     "metadata": {},
     "output_type": "execute_result"
    }
   ],
   "source": [
    "### IMPORTS ###\n",
    "import numpy as np\n",
    "random_seed=0\n",
    "import random\n",
    "random.seed(random_seed)\n",
    "import scipy.io\n",
    "import scipy.signal\n",
    "import scipy.stats\n",
    "import scipy.interpolate\n",
    "import scipy.linalg\n",
    "import matplotlib.pyplot as plt\n",
    "from time import time\n",
    "import matplotlib as mpl\n",
    "mpl.rc('image', cmap='jet')\n",
    "plt.rcParams.update({'font.size': 30})\n",
    "\n",
    "import torch\n",
    "from torch.utils.data import Dataset, DataLoader\n",
    "from torchvision import transforms\n",
    "import torchaudio.transforms as T\n",
    "from sklearn.model_selection import train_test_split\n",
    "\n",
    "import torch.nn as nn\n",
    "import torch.nn.functional as F\n",
    "device = torch.device(\"cpu\")#\"cuda:0\" if torch.cuda.is_available() else \"cpu\")\n",
    "print(device)\n",
    "torch.manual_seed(0)"
   ]
  },
  {
   "cell_type": "code",
   "execution_count": 2,
   "metadata": {},
   "outputs": [],
   "source": [
    "### PARAMETERS\n",
    "Nz = 512 # number of discrete heights\n",
    "z = np.linspace(-10, 30, Nz) # heights\n",
    "epsilon = 1e-1 # thermal noise\n",
    "\n",
    "# simulated data\n",
    "Nlook = 60 # number of looks in the simulated data\n",
    "Nsamples = 10000 # number of simulated samples\n",
    "Nim = 6 # number of simulated images in the stack\n",
    "kz = np.linspace(0.2, (Nim-1)*0.2 + 0.2, num=Nim)/2\n",
    "A = np.exp(-1j*kz.reshape(-1,1)*z.reshape(-1,1).transpose())\n",
    "A_simu = None\n",
    "az_out_sel = 115"
   ]
  },
  {
   "cell_type": "code",
   "execution_count": 21,
   "metadata": {},
   "outputs": [
    {
     "name": "stdout",
     "output_type": "stream",
     "text": [
      "dict_keys(['__header__', '__version__', '__globals__', 'Rsp', 'Tomo_SP_CP', 'az_out_sel', 'kz_sel', 'psi', 'rg_out_camp', 'spec_wv', 'zw'])\n"
     ]
    }
   ],
   "source": [
    "yue = scipy.io.loadmat('./biosar_profile_az116.mat', squeeze_me=True)#, simplify_cells=True) ## for newer scipy versions\n",
    "print(yue.keys())\n",
    "rg_out_camp = yue['rg_out_camp']-1"
   ]
  },
  {
   "cell_type": "code",
   "execution_count": 22,
   "metadata": {},
   "outputs": [
    {
     "name": "stdout",
     "output_type": "stream",
     "text": [
      "dict_keys(['__header__', '__version__', '__globals__', 'k', 'kz'])\n",
      "(935, 2553, 6)\n",
      "(935, 2553, 6, 3)\n"
     ]
    }
   ],
   "source": [
    "mat = scipy.io.loadmat('./Biosar2_L_band_demo_data.mat', squeeze_me=True)#, simplify_cells=True) ## for newer scipy versions\n",
    "print(mat.keys())\n",
    "kz = mat['kz']\n",
    "k = mat['k']\n",
    "print(kz.shape)\n",
    "print(k.shape)"
   ]
  },
  {
   "cell_type": "code",
   "execution_count": 23,
   "metadata": {},
   "outputs": [
    {
     "name": "stdout",
     "output_type": "stream",
     "text": [
      "(826, 200, 6)\n",
      "(826, 200, 6, 3)\n"
     ]
    }
   ],
   "source": [
    "## subset\n",
    "kz_sub = kz[rg_out_camp,:200, :]\n",
    "k_sub = k[rg_out_camp,:200, :, :]\n",
    "\n",
    "print(kz_sub.shape)\n",
    "print(k_sub.shape)"
   ]
  },
  {
   "cell_type": "code",
   "execution_count": 24,
   "metadata": {},
   "outputs": [],
   "source": [
    "mat['kz'] = kz_sub\n",
    "mat['k'] = k_sub\n",
    "scipy.io.savemat('./Biosar2_sample200.mat', mat)"
   ]
  },
  {
   "cell_type": "code",
   "execution_count": 25,
   "metadata": {},
   "outputs": [
    {
     "name": "stdout",
     "output_type": "stream",
     "text": [
      "dict_keys(['__header__', '__version__', '__globals__', 'k', 'kz'])\n"
     ]
    }
   ],
   "source": [
    "mat200 = scipy.io.loadmat('./Biosar2_sample200.mat', squeeze_me=True)#, simplify_cells=True) ## for newer scipy versions\n",
    "print(mat200.keys())"
   ]
  },
  {
   "cell_type": "code",
   "execution_count": 26,
   "metadata": {},
   "outputs": [
    {
     "name": "stdout",
     "output_type": "stream",
     "text": [
      "0.0\n",
      "0.0\n"
     ]
    }
   ],
   "source": [
    "print(np.sum(np.abs(kz_sub - mat200['kz'])))\n",
    "print(np.sum(np.abs(k_sub - mat200['k'])))"
   ]
  },
  {
   "cell_type": "code",
   "execution_count": null,
   "metadata": {},
   "outputs": [],
   "source": []
  }
 ],
 "metadata": {
  "kernelspec": {
   "display_name": "pytorch201",
   "language": "python",
   "name": "python3"
  },
  "language_info": {
   "codemirror_mode": {
    "name": "ipython",
    "version": 3
   },
   "file_extension": ".py",
   "mimetype": "text/x-python",
   "name": "python",
   "nbconvert_exporter": "python",
   "pygments_lexer": "ipython3",
   "version": "3.11.4"
  }
 },
 "nbformat": 4,
 "nbformat_minor": 2
}
